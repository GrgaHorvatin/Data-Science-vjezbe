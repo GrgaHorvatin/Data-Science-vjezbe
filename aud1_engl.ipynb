{
 "cells": [
  {
   "cell_type": "markdown",
   "metadata": {},
   "source": [
    "# Short introduction to pandas\n",
    "\n",
    "Pandas is a Python library for data manipulation and analysis that is characterized by great flexibility but also speed. Pandas was written in Python but critical parts were written in Cython and C to achieve great speed. This chapter will describe the two essential data structures that Pandas has at its disposal, the Series and DataFrame. For starters, we need to load `pandas`, and often `numpy` numpy as well.\n",
    "\n",
    "Additional resources:\n",
    "- [Installing jupyter notebook](https://jupyter.org/install)\n",
    "- [Cheatsheet for Pandas](https://pandas.pydata.org/Pandas_Cheat_Sheet.pdf)\n",
    "- [10-minute introduction](https://pandas.pydata.org/docs/user_guide/10min.html#min)\n",
    "- [Pandas official guide](https://pandas.pydata.org/docs/user_guide/index.html)\n",
    "\n",
    "Additional questions to filip.tomas@fer.hr. "
   ]
  },
  {
   "cell_type": "code",
   "execution_count": null,
   "metadata": {},
   "outputs": [],
   "source": [
    "import pandas as pd\n",
    "import numpy as np"
   ]
  },
  {
   "cell_type": "markdown",
   "metadata": {},
   "source": [
    "## Short introduction to different data types and structures"
   ]
  },
  {
   "cell_type": "markdown",
   "metadata": {},
   "source": [
    "Python and other programing languages use variables to store information to be referenced and manipulated in a program. These variables can differe in type, allowing for different operations being performed on them. Python implicitly \"guesses\" the type of variable based on the value.\n",
    "\n",
    "Here are some examples of the data types used in this exercise."
   ]
  },
  {
   "cell_type": "code",
   "execution_count": null,
   "metadata": {},
   "outputs": [],
   "source": [
    "example_int = 3 \n",
    "print(f\"example_int is of type: {type(example_int)}\") # integer(int) - whole numbers\n",
    "example_float = 3.0\n",
    "print(f\"example_float is of type: {type(example_float)}\") # float - decimal numbers\n",
    "\n",
    "example_string = \"Some string\" \n",
    "print(f\"example_string is of type: {type(example_string)}\") # string - letters and/or numbers circumvented with \" \" or ' ' signs\n",
    "\n",
    "\n",
    "example_boolean = True \n",
    "print(f\"example_boolean is of type: {type(example_boolean)}\") # bool - bollean algebra values (True or False)"
   ]
  },
  {
   "cell_type": "markdown",
   "metadata": {},
   "source": [
    "Python also allows for explicit definition of a data type or for conversion between some types."
   ]
  },
  {
   "cell_type": "code",
   "execution_count": null,
   "metadata": {},
   "outputs": [],
   "source": [
    "explicit_float = float(3.0)\n",
    "\n",
    "explicit_float"
   ]
  },
  {
   "cell_type": "code",
   "execution_count": null,
   "metadata": {},
   "outputs": [],
   "source": [
    "integer_from_float = int(example_float)\n",
    "\n",
    "integer_from_float"
   ]
  },
  {
   "cell_type": "markdown",
   "metadata": {},
   "source": [
    "In Python, a list is an ordered collection of items that can be of different data types, enclosed in square brackets. \\\n",
    "Enteries can be added or removed from a list."
   ]
  },
  {
   "cell_type": "code",
   "execution_count": null,
   "metadata": {},
   "outputs": [],
   "source": [
    "some_list = [\"This\", 3, True]\n",
    "some_list"
   ]
  },
  {
   "cell_type": "code",
   "execution_count": null,
   "metadata": {},
   "outputs": [],
   "source": [
    "some_list.append('Some new data')\n",
    "some_list.remove(3)\n",
    "some_list"
   ]
  },
  {
   "cell_type": "markdown",
   "metadata": {},
   "source": [
    "While flexible, lists don't allow for the usage mathematical operations on the data, such as vector or matrix multiplication.\\\n",
    "Numpy arrays are a data type which allows for such operations, limitation being that all enteries must be of the same datatype.\\\n",
    "To initialize a numpy array use the np.array() function."
   ]
  },
  {
   "cell_type": "code",
   "execution_count": null,
   "metadata": {},
   "outputs": [],
   "source": [
    "another_list = [2, 3, 4]\n",
    "array_from_list = np.array(another_list, dtype = 'int32')\n",
    "\n",
    "array_from_list"
   ]
  },
  {
   "cell_type": "markdown",
   "metadata": {},
   "source": [
    "Arrays can also be multidimensional"
   ]
  },
  {
   "cell_type": "code",
   "execution_count": null,
   "metadata": {},
   "outputs": [],
   "source": [
    "example_2d_array = np.array([[1,2,3],[4,5,6],[7,8,9]], dtype = 'int32')\n",
    "\n",
    "example_2d_array"
   ]
  },
  {
   "cell_type": "markdown",
   "metadata": {},
   "source": [
    "Dictionary is an unordered collection of key-value pairs, enclosed in curly braces, allowing efficient retrieval of values based on their associated keys."
   ]
  },
  {
   "cell_type": "code",
   "execution_count": null,
   "metadata": {},
   "outputs": [],
   "source": [
    "example_dict = {\"Name\" : \"Filip\", \"Age\" : 28}\n",
    "\n",
    "example_dict"
   ]
  },
  {
   "cell_type": "markdown",
   "metadata": {},
   "source": [
    "## Series \n",
    "\n",
    "Series is a one-dimensional labeled array capable of holding any data type (integers, strings, floating point numbers, Python objects, etc.). The axis labels are collectively referred to as the index. The basic method to create a Series is to call:\n",
    "\n",
    "```py\n",
    ">>> s = pd.Series(data, index=index)\n",
    "```\n",
    "\n",
    "Here `data` can be many different things\n",
    "- Python `dict`\n",
    "- `ndarray`\n",
    "- scalar\n",
    "\n",
    "`index` is a list of axis names.\n",
    "\n",
    "The Series object behaves similarly to numpy `ndarray`, i.e. it is possible to perform most NumPy functions and vector operations (addition, vector multiplication, summation, ...) on it, but more on that in future laboratory exercises. In addition, the Series object is similar to the Python `dict` object, i.e. it is possible to easily retrieve a value on the index with e.g.\n",
    "\n",
    "`s[\"a\"]` or `s.get(\"f\", np.nan)`"
   ]
  },
  {
   "cell_type": "markdown",
   "metadata": {},
   "source": [
    "### 1. Initilizing with a `ndarray`"
   ]
  },
  {
   "cell_type": "code",
   "execution_count": null,
   "metadata": {},
   "outputs": [],
   "source": [
    "# with implicit index\n",
    "print(np.arange(5))\n",
    "pd.Series(np.arange(5))\n"
   ]
  },
  {
   "cell_type": "code",
   "execution_count": null,
   "metadata": {},
   "outputs": [],
   "source": [
    "# with explicit index (same length as data)\n",
    "pd.Series(np.arange(5), index=[\"a\", \"b\", \"c\", \"d\", \"e\"])"
   ]
  },
  {
   "cell_type": "markdown",
   "metadata": {},
   "source": [
    "### 2. Initilizing with a `dict`\n"
   ]
  },
  {
   "cell_type": "code",
   "execution_count": null,
   "metadata": {},
   "outputs": [],
   "source": [
    "d = {\"b\": 1, \"a\": 0, \"c\": 2}\n",
    "pd.Series(d)"
   ]
  },
  {
   "cell_type": "code",
   "execution_count": null,
   "metadata": {},
   "outputs": [],
   "source": [
    "d = {\"a\": 0.0, \"b\": 1.0, \"c\": 2.0}\n",
    "pd.Series(d, index=[\"b\", \"c\", \"d\", \"a\"])\n"
   ]
  },
  {
   "cell_type": "markdown",
   "metadata": {},
   "source": [
    "### 3. Initilizing with a scalar\n",
    "\n",
    "In this case the `index` argument is necessary and the value is repeated up to the length of the` index` argument."
   ]
  },
  {
   "cell_type": "code",
   "execution_count": null,
   "metadata": {},
   "outputs": [],
   "source": [
    "pd.Series(5.0, index=[\"a\", \"b\", \"c\", \"d\", \"e\"])"
   ]
  },
  {
   "cell_type": "markdown",
   "metadata": {},
   "source": [
    "## DataFrame\n",
    "\n",
    "`DataFrame` is a two-dimensional labeled data structure with columns that differ by data type. `DataFrame` can be viewed as a spreadsheet or `dict` that contains `Series` objects as values. `DataFrame is the most commonly used pandas object and can be created using a variety of:\n",
    "- `dict` of one-dimensional `ndarray`, `dict` or `Series` objects\n",
    "- 2D `ndarray`\n",
    "- Structured `ndarray`\n",
    "- `Series` object\n",
    "- other `DataFrame`\n",
    "\n",
    "In addition to the `data` argument, an additional `index` (row labels) or `columns` (column labels) can be sent"
   ]
  },
  {
   "cell_type": "code",
   "execution_count": null,
   "metadata": {},
   "outputs": [],
   "source": [
    "d = np.array([[1,2,3],[4,5,6],[7,8,9]], dtype = 'int32')\n",
    "\n",
    "pd.DataFrame(d)"
   ]
  },
  {
   "cell_type": "code",
   "execution_count": null,
   "metadata": {},
   "outputs": [],
   "source": [
    "d = {\n",
    "    \"one\": pd.Series([1.0, 2.0, 3.0], index=[\"a\", \"b\", \"c\"]),\n",
    "    \"two\": pd.Series([1.0, 2.0, 3.0, 4.0], index=[\"a\", \"b\", \"c\", \"d\"]),\n",
    "}\n",
    "\n",
    "pd.DataFrame(d)"
   ]
  },
  {
   "cell_type": "code",
   "execution_count": null,
   "metadata": {},
   "outputs": [],
   "source": [
    "pd.DataFrame(d, index=[\"d\", \"b\", \"a\"])"
   ]
  },
  {
   "cell_type": "code",
   "execution_count": null,
   "metadata": {},
   "outputs": [],
   "source": [
    "pd.DataFrame(d, index=[\"d\", \"b\", \"a\"], columns=[\"two\", \"three\"])"
   ]
  },
  {
   "cell_type": "code",
   "execution_count": null,
   "metadata": {},
   "outputs": [],
   "source": [
    "pd.DataFrame({\n",
    "    \"one\": [1.0, 2.0, 3.0, 4.0], \n",
    "    \"two\": [4.0, 3.0, 2.0, 1.0]\n",
    "})\n"
   ]
  },
  {
   "cell_type": "code",
   "execution_count": null,
   "metadata": {},
   "outputs": [],
   "source": [
    "pd.DataFrame([\n",
    "    {\"a\": 1, \"b\": 2}, \n",
    "    {\"a\": 5, \"b\": 10, \"c\": 20}\n",
    "])"
   ]
  },
  {
   "cell_type": "code",
   "execution_count": null,
   "metadata": {},
   "outputs": [],
   "source": [
    "pd.DataFrame([\n",
    "    [1, 2, 3],\n",
    "    [4, 5, 6],\n",
    "    [7, 8, 9]],\n",
    "    index=['a', 'b', 'c'], \n",
    "    columns=[\"first\", \"second\", \"third\"]\n",
    ")"
   ]
  },
  {
   "cell_type": "markdown",
   "metadata": {},
   "source": [
    "# Data sources\n",
    "\n",
    "Pandas can work with a lot of data sources as long as the data can be written using the two object types listed in the previous chapter. In this exercise, the focus will be on the data written in the spreadsheet, .csv file. The `data` directory contains .csv and .xlsx example files. Both tables contain the same data.\n",
    "\n",
    "Loading data with the Pandas library is often very easy when the data is in the correct format, this will be shown below in the exercise for the three sources mentioned. For more information on `pandas` functions for reading and storing data and working with other formats, see https://pandas.pydata.org/pandas-docs/stable/user_guide/io.html."
   ]
  },
  {
   "cell_type": "markdown",
   "metadata": {},
   "source": [
    "## CSV\n",
    "A CSV (Comma Separated Values) file is a text file in which a comma is used to separate values. Each line in the file represents a new record. The record consists of several fields separated by commas. The first line is often used to specify field names that are also comma separated. CSV files are a simple way to write structured data and are therefore often used in practice.\n",
    "\n",
    "This exercise uses the sample file `data / students.csv` which is loaded using the` read_csv` function using the `pandas` library. Additional options for this feature may be available at [https://pandas.pydata.org/pandas-docs/stable/reference/api/pandas.read_csv.html](https://pandas.pydata.org/pandas-docs/stable/reference/api/pandas.read_csv.html)."
   ]
  },
  {
   "cell_type": "code",
   "execution_count": null,
   "metadata": {},
   "outputs": [],
   "source": [
    "students = pd.read_csv(\"data/students.csv\")\n",
    "\n",
    "students"
   ]
  },
  {
   "cell_type": "markdown",
   "metadata": {},
   "source": [
    "## Spreadsheets\n",
    "\n",
    "Spreadsheets are often used to work with spreadsheets and provide many additional services useful to data scientists, but sometimes it is necessary to process the data contained in such spreadsheets using the Python programming language. In this case, these tables are easy to load using the `pandas` function` read_excel()`.\n",
    "\n",
    "For the purposes of this laboratory exercise, the file `data/students.xlsx` is used, from which the `students` table is loaded.\n",
    "\n",
    "Additional information about the `read_excel()` function and its options is available at [https://pandas.pydata.org/pandas-docs/stable/reference/api/pandas.read_excel.html?highlight=read_excel](https://pandas.pydata.org/pandas-docs/stable/reference/api/pandas.read_excel.html?highlight=read_excel). "
   ]
  },
  {
   "cell_type": "code",
   "execution_count": null,
   "metadata": {},
   "outputs": [],
   "source": [
    "pd.read_excel(\"data/data.xlsx\", sheet_name=\"students\")"
   ]
  },
  {
   "cell_type": "markdown",
   "metadata": {},
   "source": [
    "# Manipulating Pandas DataFrame data"
   ]
  },
  {
   "cell_type": "markdown",
   "metadata": {},
   "source": [
    "### example 1\n",
    "\n",
    "Select columns 'JMBAG' and 'grade'."
   ]
  },
  {
   "cell_type": "code",
   "execution_count": null,
   "metadata": {},
   "outputs": [],
   "source": [
    "students[[\"JMBAG\", \"grade\"]]"
   ]
  },
  {
   "cell_type": "markdown",
   "metadata": {},
   "source": [
    "### example 2\n",
    "Select entries where the student's grade is greater than 3."
   ]
  },
  {
   "cell_type": "code",
   "execution_count": null,
   "metadata": {},
   "outputs": [],
   "source": [
    "students[students.grade > 3]"
   ]
  },
  {
   "cell_type": "markdown",
   "metadata": {},
   "source": [
    "What is the result of students.grade > 3?"
   ]
  },
  {
   "cell_type": "code",
   "execution_count": null,
   "metadata": {},
   "outputs": [],
   "source": [
    "students.grade > 3\n",
    "# students['grade'] > 3 "
   ]
  },
  {
   "cell_type": "markdown",
   "metadata": {},
   "source": [
    "This type of entery selection is also called boolean indexing as only the enteries for which the condition is True are selected."
   ]
  },
  {
   "cell_type": "markdown",
   "metadata": {},
   "source": [
    "### example 3\n",
    "\n",
    "Another example of boolean indexing, this time with 2 conditions: select enteries where the student's grade is equal to 5 and the student hasn't been repeating the course. Additionally only the 'JMBAG' column is selected."
   ]
  },
  {
   "cell_type": "code",
   "execution_count": null,
   "metadata": {},
   "outputs": [],
   "source": [
    "students[\n",
    "    (students.grade == 5) &\n",
    "    (students.repeating == False)\n",
    "][\"JMBAG\"]"
   ]
  },
  {
   "cell_type": "markdown",
   "metadata": {},
   "source": [
    "### example 4\n",
    "\n",
    "Grouping of the data based on the same value of a specific feature(column). In this example the enteries are grouped based on the same grade value, then the number of enteries for each value are counted."
   ]
  },
  {
   "cell_type": "code",
   "execution_count": null,
   "metadata": {},
   "outputs": [],
   "source": [
    "students.groupby('grade').size()"
   ]
  },
  {
   "cell_type": "markdown",
   "metadata": {},
   "source": [
    "### example 5\n",
    "\n",
    "In this example, .agg() is used alongside .groupby() for two purposes: first, it allows for the usage of non-pandas functions (in this case, np.mean() and np.size()); second, it enables the manipulation of multiple columns."
   ]
  },
  {
   "cell_type": "code",
   "execution_count": null,
   "metadata": {},
   "outputs": [],
   "source": [
    "students.groupby('repeating').agg({\n",
    "    'grade': np.mean,\n",
    "    'repeating': np.size\n",
    "})"
   ]
  },
  {
   "cell_type": "markdown",
   "metadata": {},
   "source": [
    "### example 6\n",
    "\n",
    "Updating entries based on some condition(s) using .loc and .iloc. Both work in a similar fashion to boolean indexing shown earlier. \\\n",
    "loc[] is used to select rows and columns by Names/Labels. \\\n",
    "iloc[] is used to select rows and columns by Integer Index/Position. \\\n",
    "In this example, the value of the grade column for students whose grade is 4 is being changed to 4+ using .loc[]."
   ]
  },
  {
   "cell_type": "code",
   "execution_count": null,
   "metadata": {},
   "outputs": [],
   "source": [
    "students.loc[students.grade == 4, 'grade'] = '4+'\n",
    "\n",
    "students"
   ]
  },
  {
   "cell_type": "markdown",
   "metadata": {},
   "source": [
    "Reverting the changes using .iloc[]"
   ]
  },
  {
   "cell_type": "code",
   "execution_count": null,
   "metadata": {},
   "outputs": [],
   "source": [
    "students.iloc[list(students.grade == '4+'), 3] = 4\n",
    "\n",
    "students"
   ]
  },
  {
   "cell_type": "markdown",
   "metadata": {},
   "source": [
    "### example 7\n",
    "\n",
    "Deleting enteries using .loc[]."
   ]
  },
  {
   "cell_type": "code",
   "execution_count": null,
   "metadata": {},
   "outputs": [],
   "source": [
    "first_timers = students.loc[students.repeating != 1]\n",
    "\n",
    "first_timers"
   ]
  },
  {
   "cell_type": "markdown",
   "metadata": {},
   "source": [
    "The indexes are no longer in order but are rather kept the same as in the original DataFrame. To fix this, .reset_index() can be used. If the drop parameter is set to False, the index column will be doubled, with the first one being the new one and the second being the old one."
   ]
  },
  {
   "cell_type": "code",
   "execution_count": null,
   "metadata": {},
   "outputs": [],
   "source": [
    "first_timers = students.loc[students.repeating != 1].reset_index(drop = True)\n",
    "\n",
    "first_timers"
   ]
  },
  {
   "cell_type": "markdown",
   "metadata": {},
   "source": [
    "## Storing DataFrame objects\n",
    "\n",
    "DataFrame objects are very easy to store using the `to_<format>()` functions. They can also be viewed at [https://pandas.pydata.org/pandas-docs/stable/user_guide/io.html](https://pandas.pydata.org/pandas-docs/stable/user_guide/io.html). Here are examples of saving a table to text `csv` or `JSON` files and a binary` pickle` file."
   ]
  },
  {
   "cell_type": "code",
   "execution_count": null,
   "metadata": {},
   "outputs": [],
   "source": [
    "filename = \"firsttimer.csv\"\n",
    "\n",
    "# save file\n",
    "first_timers.to_csv(filename)\n",
    "\n",
    "\n",
    "# read file\n",
    "print(pd.read_csv(filename))"
   ]
  },
  {
   "cell_type": "markdown",
   "metadata": {},
   "source": [
    "When a .csv is saved using .to_csv(), the index column is saved and doubled when loading using .read_csv().\n",
    "There are two ways of alleviating this issue:"
   ]
  },
  {
   "cell_type": "markdown",
   "metadata": {},
   "source": [
    "First is to save the DataFrame without the index."
   ]
  },
  {
   "cell_type": "code",
   "execution_count": null,
   "metadata": {},
   "outputs": [],
   "source": [
    "first_timers.to_csv(filename, index = False)\n",
    "\n",
    "print(pd.read_csv(filename))"
   ]
  },
  {
   "cell_type": "markdown",
   "metadata": {},
   "source": [
    "The second method is to load the .csv while providing information about the location of the saved index."
   ]
  },
  {
   "cell_type": "code",
   "execution_count": null,
   "metadata": {},
   "outputs": [],
   "source": [
    "first_timers.to_csv(filename)\n",
    "\n",
    "print(pd.read_csv(filename, index_col = 0))"
   ]
  },
  {
   "cell_type": "markdown",
   "metadata": {},
   "source": [
    "JSON is a common data format with diverse uses in electronic data interchange, including that of web applications with servers."
   ]
  },
  {
   "cell_type": "code",
   "execution_count": null,
   "metadata": {},
   "outputs": [],
   "source": [
    "filename = \"fisttimers.json\"\n",
    "\n",
    "# save file\n",
    "first_timers.to_json(filename)\n",
    "\n",
    "# read file\n",
    "print(pd.read_json(filename))\n"
   ]
  },
  {
   "cell_type": "markdown",
   "metadata": {},
   "source": [
    "Pickling is a way to convert a Python object (list, dictionary, DataFrame etc.) into a character stream. The idea is that this character stream contains all the information necessary to reconstruct the object in another Python script."
   ]
  },
  {
   "cell_type": "code",
   "execution_count": null,
   "metadata": {},
   "outputs": [],
   "source": [
    "filename = \"fisttimers.pkl\"\n",
    "\n",
    "# save file\n",
    "first_timers.to_pickle(filename)\n",
    "\n",
    "# read file\n",
    "print(pd.read_pickle(filename))\n"
   ]
  }
 ],
 "metadata": {
  "interpreter": {
   "hash": "4b956fd396f998951925e58ed0d910d0a57d390aeffe95eb1ef29f2e9f89ad60"
  },
  "kernelspec": {
   "display_name": "Python 3",
   "language": "python",
   "name": "python3"
  },
  "language_info": {
   "codemirror_mode": {
    "name": "ipython",
    "version": 3
   },
   "file_extension": ".py",
   "mimetype": "text/x-python",
   "name": "python",
   "nbconvert_exporter": "python",
   "pygments_lexer": "ipython3",
   "version": "3.8.8"
  }
 },
 "nbformat": 4,
 "nbformat_minor": 2
}
