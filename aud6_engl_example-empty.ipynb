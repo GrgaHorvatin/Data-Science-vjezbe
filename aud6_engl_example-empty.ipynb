{
 "cells": [
  {
   "cell_type": "markdown",
   "metadata": {},
   "source": [
    "# 6. auditory exercise examples\n",
    "\n",
    "\n",
    "### Reference:\n",
    "- More information on formula syntax: https://patsy.readthedocs.io/en/latest/formulas.html\n",
    "- More information about statsmodels: https://www.statsmodels.org/dev/example_formulas.html\n",
    "- Dataset: Chicco, D., Jurman, G. Machine learning can predict survival of patients with heart failure from serum creatinine and ejection fraction alone. BMC Med Inform Decis Mak 20, 16 (2020). https://doi.org/10.1186/s12911-020-1023-5"
   ]
  },
  {
   "cell_type": "code",
   "execution_count": 9,
   "metadata": {},
   "outputs": [],
   "source": [
    "import pandas as pd\n",
    "import numpy as np\n",
    "import statsmodels.formula.api as smf\n",
    "from sklearn.preprocessing import LabelEncoder\n",
    "\n",
    "# set seed for consistency\n",
    "np.random.seed(2)"
   ]
  },
  {
   "cell_type": "markdown",
   "metadata": {},
   "source": [
    "# Data - preview\n",
    "\n",
    "We will use a dataset that contains data of comet goldfish. The task is to predict lifespan of the fish using various factors such as care, environment and genetics. \n",
    "\n",
    "Features in the dataset are: \n",
    "- average length: unit is inches\n",
    "- average weight: unit is ounces\n",
    "- habitat: lakes, ponds, slow moving waters, rivers, idle water\n",
    "- ph_of_water: PH level \n",
    "- color: 9 different types of color\n",
    "- gender: False for Female, True for Male\n",
    "- life_span: age of fish"
   ]
  },
  {
   "cell_type": "code",
   "execution_count": 10,
   "metadata": {},
   "outputs": [
    {
     "data": {
      "text/html": [
       "<div>\n",
       "<style scoped>\n",
       "    .dataframe tbody tr th:only-of-type {\n",
       "        vertical-align: middle;\n",
       "    }\n",
       "\n",
       "    .dataframe tbody tr th {\n",
       "        vertical-align: top;\n",
       "    }\n",
       "\n",
       "    .dataframe thead th {\n",
       "        text-align: right;\n",
       "    }\n",
       "</style>\n",
       "<table border=\"1\" class=\"dataframe\">\n",
       "  <thead>\n",
       "    <tr style=\"text-align: right;\">\n",
       "      <th></th>\n",
       "      <th>avg_length</th>\n",
       "      <th>avg_weight</th>\n",
       "      <th>habitat</th>\n",
       "      <th>ph_of_water</th>\n",
       "      <th>color</th>\n",
       "      <th>Gender</th>\n",
       "      <th>life_span</th>\n",
       "    </tr>\n",
       "  </thead>\n",
       "  <tbody>\n",
       "    <tr>\n",
       "      <th>0</th>\n",
       "      <td>14.69</td>\n",
       "      <td>5.87</td>\n",
       "      <td>ponds</td>\n",
       "      <td>6.2</td>\n",
       "      <td>Reddish_Orange</td>\n",
       "      <td>False</td>\n",
       "      <td>10.9</td>\n",
       "    </tr>\n",
       "    <tr>\n",
       "      <th>1</th>\n",
       "      <td>1.32</td>\n",
       "      <td>3.86</td>\n",
       "      <td>idlewater</td>\n",
       "      <td>6.8</td>\n",
       "      <td>Calico</td>\n",
       "      <td>True</td>\n",
       "      <td>5.2</td>\n",
       "    </tr>\n",
       "    <tr>\n",
       "      <th>2</th>\n",
       "      <td>14.23</td>\n",
       "      <td>12.09</td>\n",
       "      <td>lakes</td>\n",
       "      <td>7.9</td>\n",
       "      <td>Reddish_Orange</td>\n",
       "      <td>True</td>\n",
       "      <td>25.3</td>\n",
       "    </tr>\n",
       "    <tr>\n",
       "      <th>3</th>\n",
       "      <td>2.54</td>\n",
       "      <td>3.20</td>\n",
       "      <td>rivers</td>\n",
       "      <td>6.7</td>\n",
       "      <td>White</td>\n",
       "      <td>False</td>\n",
       "      <td>16.4</td>\n",
       "    </tr>\n",
       "    <tr>\n",
       "      <th>4</th>\n",
       "      <td>13.10</td>\n",
       "      <td>9.81</td>\n",
       "      <td>lakes</td>\n",
       "      <td>7.8</td>\n",
       "      <td>Orange</td>\n",
       "      <td>True</td>\n",
       "      <td>3.2</td>\n",
       "    </tr>\n",
       "    <tr>\n",
       "      <th>...</th>\n",
       "      <td>...</td>\n",
       "      <td>...</td>\n",
       "      <td>...</td>\n",
       "      <td>...</td>\n",
       "      <td>...</td>\n",
       "      <td>...</td>\n",
       "      <td>...</td>\n",
       "    </tr>\n",
       "    <tr>\n",
       "      <th>1995</th>\n",
       "      <td>16.12</td>\n",
       "      <td>6.46</td>\n",
       "      <td>ponds</td>\n",
       "      <td>8.0</td>\n",
       "      <td>Red_and_White_Bi_Color</td>\n",
       "      <td>NaN</td>\n",
       "      <td>6.4</td>\n",
       "    </tr>\n",
       "    <tr>\n",
       "      <th>1996</th>\n",
       "      <td>7.50</td>\n",
       "      <td>7.07</td>\n",
       "      <td>rivers</td>\n",
       "      <td>6.3</td>\n",
       "      <td>Black_and_Orange</td>\n",
       "      <td>True</td>\n",
       "      <td>14.0</td>\n",
       "    </tr>\n",
       "    <tr>\n",
       "      <th>1997</th>\n",
       "      <td>10.52</td>\n",
       "      <td>3.27</td>\n",
       "      <td>slowmovingwaters</td>\n",
       "      <td>6.1</td>\n",
       "      <td>Orange</td>\n",
       "      <td>True</td>\n",
       "      <td>13.1</td>\n",
       "    </tr>\n",
       "    <tr>\n",
       "      <th>1998</th>\n",
       "      <td>7.70</td>\n",
       "      <td>15.41</td>\n",
       "      <td>ponds</td>\n",
       "      <td>7.8</td>\n",
       "      <td>Orange</td>\n",
       "      <td>False</td>\n",
       "      <td>15.6</td>\n",
       "    </tr>\n",
       "    <tr>\n",
       "      <th>1999</th>\n",
       "      <td>11.55</td>\n",
       "      <td>11.61</td>\n",
       "      <td>idlewater</td>\n",
       "      <td>7.5</td>\n",
       "      <td>Red_and_Silver</td>\n",
       "      <td>False</td>\n",
       "      <td>13.6</td>\n",
       "    </tr>\n",
       "  </tbody>\n",
       "</table>\n",
       "<p>2000 rows × 7 columns</p>\n",
       "</div>"
      ],
      "text/plain": [
       "      avg_length  avg_weight           habitat  ph_of_water  \\\n",
       "0          14.69        5.87             ponds          6.2   \n",
       "1           1.32        3.86         idlewater          6.8   \n",
       "2          14.23       12.09             lakes          7.9   \n",
       "3           2.54        3.20            rivers          6.7   \n",
       "4          13.10        9.81             lakes          7.8   \n",
       "...          ...         ...               ...          ...   \n",
       "1995       16.12        6.46             ponds          8.0   \n",
       "1996        7.50        7.07            rivers          6.3   \n",
       "1997       10.52        3.27  slowmovingwaters          6.1   \n",
       "1998        7.70       15.41             ponds          7.8   \n",
       "1999       11.55       11.61         idlewater          7.5   \n",
       "\n",
       "                       color Gender  life_span  \n",
       "0             Reddish_Orange  False       10.9  \n",
       "1                     Calico   True        5.2  \n",
       "2             Reddish_Orange   True       25.3  \n",
       "3                      White  False       16.4  \n",
       "4                     Orange   True        3.2  \n",
       "...                      ...    ...        ...  \n",
       "1995  Red_and_White_Bi_Color    NaN        6.4  \n",
       "1996        Black_and_Orange   True       14.0  \n",
       "1997                  Orange   True       13.1  \n",
       "1998                  Orange  False       15.6  \n",
       "1999          Red_and_Silver  False       13.6  \n",
       "\n",
       "[2000 rows x 7 columns]"
      ]
     },
     "execution_count": 10,
     "metadata": {},
     "output_type": "execute_result"
    }
   ],
   "source": [
    "df = pd.read_csv('data/fish_data.csv')\n",
    "df.drop(['id'], axis=1, inplace=True)\n",
    "df=df.rename(columns={\"average_length(inches))\": \"avg_length\", \"average_weight(inches))\": \"avg_weight\"})\n",
    "df"
   ]
  },
  {
   "cell_type": "markdown",
   "metadata": {},
   "source": [
    "The dataset needs preprocessing before we continue working with it. Let's check for missing data. "
   ]
  },
  {
   "cell_type": "code",
   "execution_count": null,
   "metadata": {},
   "outputs": [],
   "source": []
  },
  {
   "cell_type": "markdown",
   "metadata": {},
   "source": [
    "We should also replace textual values into categorical using label encoder."
   ]
  },
  {
   "cell_type": "code",
   "execution_count": 15,
   "metadata": {},
   "outputs": [],
   "source": []
  },
  {
   "cell_type": "code",
   "execution_count": null,
   "metadata": {},
   "outputs": [],
   "source": [
    "df"
   ]
  },
  {
   "cell_type": "markdown",
   "metadata": {},
   "source": [
    "# Linear regression task 1: Modeling age of fish depending on genetics\n",
    "\n",
    "- Using linear regression, we will model the age of fish using the size of fish (length and weight) and gender.\n",
    "- The model that achieves this is formulated as:\n",
    "        life_span ~ avg_length + avg_weight + C(Gender)\n"
   ]
  },
  {
   "cell_type": "code",
   "execution_count": null,
   "metadata": {},
   "outputs": [],
   "source": [
    "# Declares the model\n"
   ]
  },
  {
   "cell_type": "markdown",
   "metadata": {},
   "source": [
    "- The dependent variable : life_span (how old is the fish)\n",
    "- Method: The type of model that was fitted (OLS)\n",
    "- Nb observations: The number of datapoints (??? calico fish)\n",
    "- R2: The fraction of explained variance\n",
    "- A list of predictors\n",
    "- For each predictor: coefficient, standard error of the coefficients, p-value, 95% confidence intervals"
   ]
  },
  {
   "cell_type": "markdown",
   "metadata": {},
   "source": [
    "### We can now interpret the learned model\n",
    "\n",
    "$life span = intercept? + coeff1?* avg length + coeff2?* avg weight + coeff3?*Gender$\n",
    "\n",
    "- What is the expected life span if the fish is female?\n",
    "- How does the weight and length of the fish affect the life span?\n"
   ]
  },
  {
   "cell_type": "markdown",
   "metadata": {},
   "source": [
    "# Linear regression task 2: Modeling age of fish depending on environment\n",
    "\n",
    "- using linear regression we will model the age of fish using environment variables: habitat and ph of water and check the interaction between the two variables. \n",
    "- The model that achieves this is formulated as:\n",
    "        life_span ~ C(habitat) * ph_of_water \n"
   ]
  },
  {
   "cell_type": "code",
   "execution_count": 23,
   "metadata": {},
   "outputs": [
    {
     "data": {
      "text/html": [
       "<table class=\"simpletable\">\n",
       "<caption>OLS Regression Results</caption>\n",
       "<tr>\n",
       "  <th>Dep. Variable:</th>        <td>life_span</td>    <th>  R-squared:         </th> <td>   0.004</td> \n",
       "</tr>\n",
       "<tr>\n",
       "  <th>Model:</th>                   <td>OLS</td>       <th>  Adj. R-squared:    </th> <td>  -0.001</td> \n",
       "</tr>\n",
       "<tr>\n",
       "  <th>Method:</th>             <td>Least Squares</td>  <th>  F-statistic:       </th> <td>  0.8717</td> \n",
       "</tr>\n",
       "<tr>\n",
       "  <th>Date:</th>             <td>Fri, 08 Dec 2023</td> <th>  Prob (F-statistic):</th>  <td> 0.550</td>  \n",
       "</tr>\n",
       "<tr>\n",
       "  <th>Time:</th>                 <td>10:02:43</td>     <th>  Log-Likelihood:    </th> <td> -6837.1</td> \n",
       "</tr>\n",
       "<tr>\n",
       "  <th>No. Observations:</th>      <td>  1976</td>      <th>  AIC:               </th> <td>1.369e+04</td>\n",
       "</tr>\n",
       "<tr>\n",
       "  <th>Df Residuals:</th>          <td>  1966</td>      <th>  BIC:               </th> <td>1.375e+04</td>\n",
       "</tr>\n",
       "<tr>\n",
       "  <th>Df Model:</th>              <td>     9</td>      <th>                     </th>     <td> </td>    \n",
       "</tr>\n",
       "<tr>\n",
       "  <th>Covariance Type:</th>      <td>nonrobust</td>    <th>                     </th>     <td> </td>    \n",
       "</tr>\n",
       "</table>\n",
       "<table class=\"simpletable\">\n",
       "<tr>\n",
       "               <td></td>                  <th>coef</th>     <th>std err</th>      <th>t</th>      <th>P>|t|</th>  <th>[0.025</th>    <th>0.975]</th>  \n",
       "</tr>\n",
       "<tr>\n",
       "  <th>Intercept</th>                   <td>   19.2001</td> <td>    4.749</td> <td>    4.043</td> <td> 0.000</td> <td>    9.887</td> <td>   28.513</td>\n",
       "</tr>\n",
       "<tr>\n",
       "  <th>C(habitat)[T.1]</th>             <td>   -1.6310</td> <td>    6.550</td> <td>   -0.249</td> <td> 0.803</td> <td>  -14.476</td> <td>   11.214</td>\n",
       "</tr>\n",
       "<tr>\n",
       "  <th>C(habitat)[T.2]</th>             <td>   -2.6762</td> <td>    6.691</td> <td>   -0.400</td> <td> 0.689</td> <td>  -15.798</td> <td>   10.446</td>\n",
       "</tr>\n",
       "<tr>\n",
       "  <th>C(habitat)[T.3]</th>             <td>   -0.0134</td> <td>    6.869</td> <td>   -0.002</td> <td> 0.998</td> <td>  -13.485</td> <td>   13.458</td>\n",
       "</tr>\n",
       "<tr>\n",
       "  <th>C(habitat)[T.4]</th>             <td>   -1.3907</td> <td>    6.731</td> <td>   -0.207</td> <td> 0.836</td> <td>  -14.591</td> <td>   11.810</td>\n",
       "</tr>\n",
       "<tr>\n",
       "  <th>ph_of_water</th>                 <td>   -0.7662</td> <td>    0.678</td> <td>   -1.131</td> <td> 0.258</td> <td>   -2.095</td> <td>    0.563</td>\n",
       "</tr>\n",
       "<tr>\n",
       "  <th>C(habitat)[T.1]:ph_of_water</th> <td>    0.2896</td> <td>    0.933</td> <td>    0.311</td> <td> 0.756</td> <td>   -1.539</td> <td>    2.119</td>\n",
       "</tr>\n",
       "<tr>\n",
       "  <th>C(habitat)[T.2]:ph_of_water</th> <td>    0.4407</td> <td>    0.951</td> <td>    0.463</td> <td> 0.643</td> <td>   -1.425</td> <td>    2.307</td>\n",
       "</tr>\n",
       "<tr>\n",
       "  <th>C(habitat)[T.3]:ph_of_water</th> <td>    0.1430</td> <td>    0.977</td> <td>    0.146</td> <td> 0.884</td> <td>   -1.773</td> <td>    2.059</td>\n",
       "</tr>\n",
       "<tr>\n",
       "  <th>C(habitat)[T.4]:ph_of_water</th> <td>    0.3408</td> <td>    0.959</td> <td>    0.355</td> <td> 0.722</td> <td>   -1.540</td> <td>    2.221</td>\n",
       "</tr>\n",
       "</table>\n",
       "<table class=\"simpletable\">\n",
       "<tr>\n",
       "  <th>Omnibus:</th>       <td>1100.749</td> <th>  Durbin-Watson:     </th> <td>   2.048</td>\n",
       "</tr>\n",
       "<tr>\n",
       "  <th>Prob(Omnibus):</th>  <td> 0.000</td>  <th>  Jarque-Bera (JB):  </th> <td> 109.515</td>\n",
       "</tr>\n",
       "<tr>\n",
       "  <th>Skew:</th>           <td>-0.002</td>  <th>  Prob(JB):          </th> <td>1.66e-24</td>\n",
       "</tr>\n",
       "<tr>\n",
       "  <th>Kurtosis:</th>       <td> 1.847</td>  <th>  Cond. No.          </th> <td>    513.</td>\n",
       "</tr>\n",
       "</table><br/><br/>Notes:<br/>[1] Standard Errors assume that the covariance matrix of the errors is correctly specified."
      ],
      "text/plain": [
       "<class 'statsmodels.iolib.summary.Summary'>\n",
       "\"\"\"\n",
       "                            OLS Regression Results                            \n",
       "==============================================================================\n",
       "Dep. Variable:              life_span   R-squared:                       0.004\n",
       "Model:                            OLS   Adj. R-squared:                 -0.001\n",
       "Method:                 Least Squares   F-statistic:                    0.8717\n",
       "Date:                Fri, 08 Dec 2023   Prob (F-statistic):              0.550\n",
       "Time:                        10:02:43   Log-Likelihood:                -6837.1\n",
       "No. Observations:                1976   AIC:                         1.369e+04\n",
       "Df Residuals:                    1966   BIC:                         1.375e+04\n",
       "Df Model:                           9                                         \n",
       "Covariance Type:            nonrobust                                         \n",
       "===============================================================================================\n",
       "                                  coef    std err          t      P>|t|      [0.025      0.975]\n",
       "-----------------------------------------------------------------------------------------------\n",
       "Intercept                      19.2001      4.749      4.043      0.000       9.887      28.513\n",
       "C(habitat)[T.1]                -1.6310      6.550     -0.249      0.803     -14.476      11.214\n",
       "C(habitat)[T.2]                -2.6762      6.691     -0.400      0.689     -15.798      10.446\n",
       "C(habitat)[T.3]                -0.0134      6.869     -0.002      0.998     -13.485      13.458\n",
       "C(habitat)[T.4]                -1.3907      6.731     -0.207      0.836     -14.591      11.810\n",
       "ph_of_water                    -0.7662      0.678     -1.131      0.258      -2.095       0.563\n",
       "C(habitat)[T.1]:ph_of_water     0.2896      0.933      0.311      0.756      -1.539       2.119\n",
       "C(habitat)[T.2]:ph_of_water     0.4407      0.951      0.463      0.643      -1.425       2.307\n",
       "C(habitat)[T.3]:ph_of_water     0.1430      0.977      0.146      0.884      -1.773       2.059\n",
       "C(habitat)[T.4]:ph_of_water     0.3408      0.959      0.355      0.722      -1.540       2.221\n",
       "==============================================================================\n",
       "Omnibus:                     1100.749   Durbin-Watson:                   2.048\n",
       "Prob(Omnibus):                  0.000   Jarque-Bera (JB):              109.515\n",
       "Skew:                          -0.002   Prob(JB):                     1.66e-24\n",
       "Kurtosis:                       1.847   Cond. No.                         513.\n",
       "==============================================================================\n",
       "\n",
       "Notes:\n",
       "[1] Standard Errors assume that the covariance matrix of the errors is correctly specified.\n",
       "\"\"\""
      ]
     },
     "execution_count": 23,
     "metadata": {},
     "output_type": "execute_result"
    }
   ],
   "source": [
    "# Declares the model\n"
   ]
  },
  {
   "cell_type": "markdown",
   "metadata": {},
   "source": [
    "### Interpretation\n",
    "- let's discuss the values\n"
   ]
  },
  {
   "cell_type": "markdown",
   "metadata": {},
   "source": [
    "# Standardization"
   ]
  },
  {
   "cell_type": "code",
   "execution_count": null,
   "metadata": {},
   "outputs": [],
   "source": [
    "# how we standardize the countinuous variables\n",
    "columns_to_standardize = [\n",
    "\n",
    "]\n",
    "\n",
    "for col in columns_to_standardize:\n",
    "    df[col] = (df[col] - df[col].mean()) / df[col].std()  # standardize column\n"
   ]
  },
  {
   "cell_type": "code",
   "execution_count": null,
   "metadata": {},
   "outputs": [],
   "source": [
    "# Declares the model\n"
   ]
  }
 ],
 "metadata": {
  "interpreter": {
   "hash": "e7370f93d1d0cde622a1f8e1c04877d8463912d04d973331ad4851f04de6915a"
  },
  "kernelspec": {
   "display_name": "Python 3 (ipykernel)",
   "language": "python",
   "name": "python3"
  },
  "language_info": {
   "codemirror_mode": {
    "name": "ipython",
    "version": 3
   },
   "file_extension": ".py",
   "mimetype": "text/x-python",
   "name": "python",
   "nbconvert_exporter": "python",
   "pygments_lexer": "ipython3",
   "version": "3.8.10"
  }
 },
 "nbformat": 4,
 "nbformat_minor": 2
}
