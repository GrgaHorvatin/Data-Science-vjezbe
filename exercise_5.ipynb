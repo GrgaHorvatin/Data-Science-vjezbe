{
 "cells": [
  {
   "cell_type": "markdown",
   "id": "4fb79def",
   "metadata": {},
   "source": [
    "## Exercise 5\n",
    "\n",
    "This exercise uses the sample file `data / estonia.csv` which is loaded using the` read_csv` function using the `pandas` library. Additional options for this feature may be available at [https://pandas.pydata.org/pandas-docs/stable/reference/api/pandas.read_csv.html](https://pandas.pydata.org/pandas-docs/stable/reference/api/pandas.read_csv.html)."
   ]
  },
  {
   "cell_type": "markdown",
   "id": "124632d6",
   "metadata": {},
   "source": [
    "What is the size of the dataframe 'estonia'?"
   ]
  },
  {
   "cell_type": "markdown",
   "id": "b49a03be",
   "metadata": {},
   "source": [
    "What are the names of the columns of the dataset?"
   ]
  },
  {
   "cell_type": "markdown",
   "id": "6d5f43e2",
   "metadata": {},
   "source": [
    "# Manipulating Pandas DataFrame data"
   ]
  },
  {
   "cell_type": "markdown",
   "id": "03c077cb",
   "metadata": {},
   "source": [
    "Select columns 'Sex' and 'Age'."
   ]
  },
  {
   "cell_type": "markdown",
   "id": "914d476d",
   "metadata": {},
   "source": [
    "How many children were in the plane?"
   ]
  },
  {
   "cell_type": "markdown",
   "id": "629244ca",
   "metadata": {},
   "source": [
    "Select passengers that are above 60 and male."
   ]
  },
  {
   "cell_type": "markdown",
   "id": "6f3f78e2",
   "metadata": {},
   "source": [
    "Select only the survived column for the passengers from the previous excercise."
   ]
  },
  {
   "cell_type": "markdown",
   "id": "8f7b25d3",
   "metadata": {},
   "source": [
    "How many females and how many males are in the data set?"
   ]
  },
  {
   "cell_type": "markdown",
   "id": "670b16b1",
   "metadata": {},
   "source": [
    "Show the entries for the first 2 rows of the dataset."
   ]
  },
  {
   "cell_type": "markdown",
   "id": "04545c2d",
   "metadata": {},
   "source": [
    "Which data types are there in this data set?"
   ]
  },
  {
   "cell_type": "markdown",
   "id": "7b0c0280",
   "metadata": {},
   "source": [
    "# Cleaning the data set."
   ]
  },
  {
   "cell_type": "markdown",
   "id": "83da8bf7",
   "metadata": {},
   "source": [
    "Which columns have a unique value for each entry?"
   ]
  },
  {
   "cell_type": "markdown",
   "id": "d6a24503",
   "metadata": {},
   "source": [
    "Delete the column that gives no information to the data set."
   ]
  },
  {
   "cell_type": "markdown",
   "id": "a2dfc4a0",
   "metadata": {},
   "source": [
    "Check the set for missing data."
   ]
  },
  {
   "cell_type": "markdown",
   "id": "a43b5a5d",
   "metadata": {},
   "source": [
    "How will you solve the missing data problem?"
   ]
  },
  {
   "cell_type": "markdown",
   "id": "374b6f13",
   "metadata": {},
   "source": [
    "Which atributes are important for this dataset? Transform important 'string' atributes to 'integers'. Which encoding methods will you use?"
   ]
  },
  {
   "cell_type": "markdown",
   "id": "b36ae980",
   "metadata": {},
   "source": [
    "Extra: how would you encode 'Age'?"
   ]
  },
  {
   "cell_type": "markdown",
   "id": "c28252aa",
   "metadata": {},
   "source": [
    "Find outliers in 'Age'."
   ]
  },
  {
   "cell_type": "markdown",
   "id": "ceb337ac",
   "metadata": {},
   "source": [
    "# Visualisation"
   ]
  },
  {
   "cell_type": "markdown",
   "id": "ecc02504",
   "metadata": {},
   "source": [
    "Plot the distribuiton of the age of the passengers."
   ]
  },
  {
   "cell_type": "markdown",
   "id": "06a4249d",
   "metadata": {},
   "source": [
    "Show the mean and median of the age distribution."
   ]
  },
  {
   "cell_type": "markdown",
   "id": "7e3959b9",
   "metadata": {},
   "source": [
    "Plot the distribution of age of the persons who survived or not."
   ]
  },
  {
   "cell_type": "markdown",
   "id": "1e7e063f",
   "metadata": {},
   "source": [
    "Plot the percentage of the countries of origin. Show the names of countries and the percentages."
   ]
  },
  {
   "cell_type": "markdown",
   "id": "deb5cedf",
   "metadata": {},
   "source": [
    "Is there a better way to plot the data about the countries of origin?"
   ]
  },
  {
   "cell_type": "markdown",
   "id": "0042e559",
   "metadata": {},
   "source": [
    "# Descriptive statistics"
   ]
  },
  {
   "cell_type": "markdown",
   "id": "02625be4",
   "metadata": {},
   "source": [
    "Find the mean, median, mode, standard deviation and variation of 'Age'."
   ]
  }
 ],
 "metadata": {
  "kernelspec": {
   "display_name": "Python 3 (ipykernel)",
   "language": "python",
   "name": "python3"
  },
  "language_info": {
   "codemirror_mode": {
    "name": "ipython",
    "version": 3
   },
   "file_extension": ".py",
   "mimetype": "text/x-python",
   "name": "python",
   "nbconvert_exporter": "python",
   "pygments_lexer": "ipython3",
   "version": "3.11.2"
  }
 },
 "nbformat": 4,
 "nbformat_minor": 5
}
